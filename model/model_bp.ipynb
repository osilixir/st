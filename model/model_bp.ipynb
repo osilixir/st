{
 "cells": [
  {
   "cell_type": "code",
   "execution_count": 1,
   "metadata": {},
   "outputs": [],
   "source": [
    "# load data"
   ]
  },
  {
   "cell_type": "code",
   "execution_count": 2,
   "metadata": {},
   "outputs": [],
   "source": [
    "import pandas as pd\n",
    "\n",
    "raw_fundamental = pd.read_csv(\"./data/cfs_fundamental.csv\", index_col=0)\n",
    "raw_ohlcv = pd.read_csv(\"./data/ohlcvs.csv\", index_col=0, low_memory=False)\n",
    "raw_stocks = pd.read_csv(\"./data/stocks.csv\", index_col=0)"
   ]
  },
  {
   "cell_type": "code",
   "execution_count": 3,
   "metadata": {},
   "outputs": [],
   "source": [
    "from st_fa_tools.fa_tools.v2.preproc import OhlcvPreProc, StockPreProc, FundamentalPreProc\n",
    "from st_fa_tools.fa_tools.v2.preproc import FaPreProc\n",
    "\n",
    "fundamental_preproc = FundamentalPreProc(raw_fundamental)\n",
    "preproc_fundamental = fundamental_preproc()\n",
    "\n",
    "ohlcv_preproc = OhlcvPreProc(raw_ohlcv)\n",
    "prices = ohlcv_preproc.get_ma_prices(window=32)\n",
    "\n",
    "info_preproc = StockPreProc(raw_stocks)\n",
    "shares = info_preproc.get_shares()"
   ]
  },
  {
   "cell_type": "code",
   "execution_count": 4,
   "metadata": {},
   "outputs": [
    {
     "data": {
      "text/html": [
       "<div>\n",
       "<style scoped>\n",
       "    .dataframe tbody tr th:only-of-type {\n",
       "        vertical-align: middle;\n",
       "    }\n",
       "\n",
       "    .dataframe tbody tr th {\n",
       "        vertical-align: top;\n",
       "    }\n",
       "\n",
       "    .dataframe thead th {\n",
       "        text-align: right;\n",
       "    }\n",
       "</style>\n",
       "<table border=\"1\" class=\"dataframe\">\n",
       "  <thead>\n",
       "    <tr style=\"text-align: right;\">\n",
       "      <th></th>\n",
       "      <th>date</th>\n",
       "      <th>stock_code</th>\n",
       "      <th>factor</th>\n",
       "      <th>amount</th>\n",
       "      <th>reprt_no</th>\n",
       "    </tr>\n",
       "  </thead>\n",
       "  <tbody>\n",
       "    <tr>\n",
       "      <th>0</th>\n",
       "      <td>2020-11-25</td>\n",
       "      <td>950180</td>\n",
       "      <td>total_assets</td>\n",
       "      <td>3.128671e+10</td>\n",
       "      <td>2</td>\n",
       "    </tr>\n",
       "    <tr>\n",
       "      <th>1</th>\n",
       "      <td>2020-11-25</td>\n",
       "      <td>950180</td>\n",
       "      <td>current_assets</td>\n",
       "      <td>2.762729e+10</td>\n",
       "      <td>2</td>\n",
       "    </tr>\n",
       "    <tr>\n",
       "      <th>2</th>\n",
       "      <td>2020-11-25</td>\n",
       "      <td>950180</td>\n",
       "      <td>fixed_assets</td>\n",
       "      <td>3.659419e+09</td>\n",
       "      <td>2</td>\n",
       "    </tr>\n",
       "    <tr>\n",
       "      <th>3</th>\n",
       "      <td>2020-11-25</td>\n",
       "      <td>950180</td>\n",
       "      <td>current_liabilities</td>\n",
       "      <td>1.614036e+09</td>\n",
       "      <td>2</td>\n",
       "    </tr>\n",
       "    <tr>\n",
       "      <th>4</th>\n",
       "      <td>2020-11-25</td>\n",
       "      <td>950180</td>\n",
       "      <td>total_liabilities</td>\n",
       "      <td>2.042976e+09</td>\n",
       "      <td>2</td>\n",
       "    </tr>\n",
       "    <tr>\n",
       "      <th>...</th>\n",
       "      <td>...</td>\n",
       "      <td>...</td>\n",
       "      <td>...</td>\n",
       "      <td>...</td>\n",
       "      <td>...</td>\n",
       "    </tr>\n",
       "    <tr>\n",
       "      <th>11605</th>\n",
       "      <td>2024-02-21</td>\n",
       "      <td>003570</td>\n",
       "      <td>shares</td>\n",
       "      <td>3.325270e+07</td>\n",
       "      <td>0</td>\n",
       "    </tr>\n",
       "    <tr>\n",
       "      <th>11606</th>\n",
       "      <td>2024-02-21</td>\n",
       "      <td>100840</td>\n",
       "      <td>shares</td>\n",
       "      <td>7.506711e+06</td>\n",
       "      <td>0</td>\n",
       "    </tr>\n",
       "    <tr>\n",
       "      <th>11607</th>\n",
       "      <td>2024-02-21</td>\n",
       "      <td>036530</td>\n",
       "      <td>shares</td>\n",
       "      <td>1.630389e+07</td>\n",
       "      <td>0</td>\n",
       "    </tr>\n",
       "    <tr>\n",
       "      <th>11608</th>\n",
       "      <td>2024-02-21</td>\n",
       "      <td>365550</td>\n",
       "      <td>shares</td>\n",
       "      <td>2.130890e+08</td>\n",
       "      <td>0</td>\n",
       "    </tr>\n",
       "    <tr>\n",
       "      <th>11609</th>\n",
       "      <td>2024-02-22</td>\n",
       "      <td>078130</td>\n",
       "      <td>shares</td>\n",
       "      <td>1.127406e+09</td>\n",
       "      <td>0</td>\n",
       "    </tr>\n",
       "  </tbody>\n",
       "</table>\n",
       "<p>63591 rows × 5 columns</p>\n",
       "</div>"
      ],
      "text/plain": [
       "            date stock_code               factor        amount reprt_no\n",
       "0     2020-11-25     950180         total_assets  3.128671e+10        2\n",
       "1     2020-11-25     950180       current_assets  2.762729e+10        2\n",
       "2     2020-11-25     950180         fixed_assets  3.659419e+09        2\n",
       "3     2020-11-25     950180  current_liabilities  1.614036e+09        2\n",
       "4     2020-11-25     950180    total_liabilities  2.042976e+09        2\n",
       "...          ...        ...                  ...           ...      ...\n",
       "11605 2024-02-21     003570               shares  3.325270e+07        0\n",
       "11606 2024-02-21     100840               shares  7.506711e+06        0\n",
       "11607 2024-02-21     036530               shares  1.630389e+07        0\n",
       "11608 2024-02-21     365550               shares  2.130890e+08        0\n",
       "11609 2024-02-22     078130               shares  1.127406e+09        0\n",
       "\n",
       "[63591 rows x 5 columns]"
      ]
     },
     "execution_count": 4,
     "metadata": {},
     "output_type": "execute_result"
    }
   ],
   "source": [
    "fa_preproc = FaPreProc(preproc_fundamental, prices, shares)\n",
    "fundamental = fa_preproc()\n",
    "fundamental"
   ]
  },
  {
   "cell_type": "code",
   "execution_count": 5,
   "metadata": {},
   "outputs": [],
   "source": [
    "from st_fa_tools.fa_tools.v2.proc import FaProc\n",
    "\n",
    "fa_proc = FaProc(fundamental)\n",
    "\n",
    "fa_0 = fa_proc(\"0\")\n",
    "fa_1 = fa_proc(\"1\")\n",
    "fa_2 = fa_proc(\"2\")"
   ]
  },
  {
   "cell_type": "code",
   "execution_count": 6,
   "metadata": {},
   "outputs": [],
   "source": [
    "# TPBR이 감소 한다는 것은 기대치가 낮아지고 있다는 것\n",
    "tpbr_df = pd.concat(\n",
    "    [\n",
    "        fa_0[\"TPBR\"].rename(\"recent_1\"),\n",
    "        fa_1[\"TPBR\"].rename(\"recent_2\"),\n",
    "        fa_2[\"TPBR\"].rename(\"recent_3\"),\n",
    "    ],\n",
    "    axis=1,\n",
    ")\n",
    "_stock_codes_1 = tpbr_df[\n",
    "    (tpbr_df[\"recent_1\"] < tpbr_df[\"recent_2\"]) & (tpbr_df[\"recent_2\"] < tpbr_df[\"recent_3\"])\n",
    "].index"
   ]
  },
  {
   "cell_type": "code",
   "execution_count": 7,
   "metadata": {},
   "outputs": [],
   "source": [
    "# 매년 당기순이익이 증가\n",
    "net_profit_df = pd.concat(\n",
    "    [\n",
    "        fa_0[\"net_profit\"].rename(\"recent_1\"),\n",
    "        fa_1[\"net_profit\"].rename(\"recent_2\"),\n",
    "        fa_2[\"net_profit\"].rename(\"recent_3\"),\n",
    "    ],\n",
    "    axis=1,\n",
    ")\n",
    "_stock_codes_2 = net_profit_df[\n",
    "    (net_profit_df[\"recent_3\"] < net_profit_df[\"recent_2\"])\n",
    "    & (net_profit_df[\"recent_2\"] < net_profit_df[\"recent_1\"])\n",
    "].index"
   ]
  },
  {
   "cell_type": "code",
   "execution_count": 8,
   "metadata": {},
   "outputs": [],
   "source": [
    "# 유동 BPS가 price 이하\n",
    "_stock_codes_3 = fa_0[fa_0[\"CBPS\"] > fa_0[\"price\"]].index\n",
    "\n",
    "# 유동부채 비율 0.5 이하\n",
    "_stock_codes_4 = fa_0[fa_0[\"C_debt_ratio\"] < 0.5].index"
   ]
  },
  {
   "cell_type": "code",
   "execution_count": 9,
   "metadata": {},
   "outputs": [
    {
     "data": {
      "text/plain": [
       "17"
      ]
     },
     "execution_count": 9,
     "metadata": {},
     "output_type": "execute_result"
    }
   ],
   "source": [
    "fa_filtered_codes = (\n",
    "    set(_stock_codes_1) & set(_stock_codes_2) & set(_stock_codes_3) & set(_stock_codes_4)\n",
    ")\n",
    "len(fa_filtered_codes)"
   ]
  },
  {
   "cell_type": "code",
   "execution_count": 10,
   "metadata": {},
   "outputs": [],
   "source": [
    "from st_ta_tools.ta_tools.models.relative_strength import SimpleRelativeStrengthModel"
   ]
  },
  {
   "cell_type": "code",
   "execution_count": 11,
   "metadata": {},
   "outputs": [],
   "source": [
    "results = dict()\n",
    "RS_CFG = {\"window\": 30}\n",
    "for stock_code in fa_filtered_codes:\n",
    "    prices = raw_ohlcv[raw_ohlcv[\"stock_code\"] == stock_code][\"close\"].rename(\"price\")\n",
    "    simple_relative_strength_model = SimpleRelativeStrengthModel(prices, RS_CFG)\n",
    "    srs_indicator = simple_relative_strength_model.indicator()\n",
    "    srs_signal = simple_relative_strength_model.signal(srs_indicator, continious=True, trend=False)\n",
    "    result = {\n",
    "        \"recent_10\": srs_signal[\"signal\"].tail(10).mean().round(5),\n",
    "        \"recent_30\": srs_signal[\"signal\"].tail(30).mean().round(5),\n",
    "        \"recent_60\": srs_signal[\"signal\"].tail(60).mean().round(5),\n",
    "    }\n",
    "    results[stock_code] = result"
   ]
  },
  {
   "cell_type": "code",
   "execution_count": 12,
   "metadata": {},
   "outputs": [
    {
     "data": {
      "text/html": [
       "<div>\n",
       "<style scoped>\n",
       "    .dataframe tbody tr th:only-of-type {\n",
       "        vertical-align: middle;\n",
       "    }\n",
       "\n",
       "    .dataframe tbody tr th {\n",
       "        vertical-align: top;\n",
       "    }\n",
       "\n",
       "    .dataframe thead th {\n",
       "        text-align: right;\n",
       "    }\n",
       "</style>\n",
       "<table border=\"1\" class=\"dataframe\">\n",
       "  <thead>\n",
       "    <tr style=\"text-align: right;\">\n",
       "      <th></th>\n",
       "      <th>recent_10</th>\n",
       "      <th>recent_30</th>\n",
       "      <th>recent_60</th>\n",
       "    </tr>\n",
       "  </thead>\n",
       "  <tbody>\n",
       "    <tr>\n",
       "      <th>002810</th>\n",
       "      <td>-0.48887</td>\n",
       "      <td>-0.15388</td>\n",
       "      <td>-0.09433</td>\n",
       "    </tr>\n",
       "    <tr>\n",
       "      <th>010060</th>\n",
       "      <td>0.02669</td>\n",
       "      <td>-0.03073</td>\n",
       "      <td>-0.02969</td>\n",
       "    </tr>\n",
       "    <tr>\n",
       "      <th>029460</th>\n",
       "      <td>-0.28381</td>\n",
       "      <td>-0.25043</td>\n",
       "      <td>-0.27348</td>\n",
       "    </tr>\n",
       "    <tr>\n",
       "      <th>094840</th>\n",
       "      <td>-0.16050</td>\n",
       "      <td>-0.19412</td>\n",
       "      <td>-0.16679</td>\n",
       "    </tr>\n",
       "    <tr>\n",
       "      <th>006200</th>\n",
       "      <td>-0.13751</td>\n",
       "      <td>-0.20587</td>\n",
       "      <td>-0.13413</td>\n",
       "    </tr>\n",
       "    <tr>\n",
       "      <th>078140</th>\n",
       "      <td>0.05887</td>\n",
       "      <td>0.09143</td>\n",
       "      <td>0.00592</td>\n",
       "    </tr>\n",
       "    <tr>\n",
       "      <th>111770</th>\n",
       "      <td>-0.22004</td>\n",
       "      <td>-0.00164</td>\n",
       "      <td>0.10717</td>\n",
       "    </tr>\n",
       "    <tr>\n",
       "      <th>000850</th>\n",
       "      <td>-0.21637</td>\n",
       "      <td>0.09453</td>\n",
       "      <td>0.06777</td>\n",
       "    </tr>\n",
       "    <tr>\n",
       "      <th>005710</th>\n",
       "      <td>-0.20648</td>\n",
       "      <td>-0.04490</td>\n",
       "      <td>-0.08580</td>\n",
       "    </tr>\n",
       "    <tr>\n",
       "      <th>088790</th>\n",
       "      <td>0.06470</td>\n",
       "      <td>0.12695</td>\n",
       "      <td>0.02914</td>\n",
       "    </tr>\n",
       "    <tr>\n",
       "      <th>020000</th>\n",
       "      <td>-0.06835</td>\n",
       "      <td>0.02721</td>\n",
       "      <td>-0.02360</td>\n",
       "    </tr>\n",
       "    <tr>\n",
       "      <th>002920</th>\n",
       "      <td>-0.16453</td>\n",
       "      <td>0.10989</td>\n",
       "      <td>0.00810</td>\n",
       "    </tr>\n",
       "    <tr>\n",
       "      <th>005680</th>\n",
       "      <td>-0.23130</td>\n",
       "      <td>-0.31885</td>\n",
       "      <td>-0.30244</td>\n",
       "    </tr>\n",
       "    <tr>\n",
       "      <th>046310</th>\n",
       "      <td>0.20562</td>\n",
       "      <td>0.20377</td>\n",
       "      <td>0.21742</td>\n",
       "    </tr>\n",
       "    <tr>\n",
       "      <th>008110</th>\n",
       "      <td>0.01363</td>\n",
       "      <td>0.11257</td>\n",
       "      <td>0.23458</td>\n",
       "    </tr>\n",
       "    <tr>\n",
       "      <th>241770</th>\n",
       "      <td>-0.06743</td>\n",
       "      <td>-0.15799</td>\n",
       "      <td>-0.05999</td>\n",
       "    </tr>\n",
       "    <tr>\n",
       "      <th>094970</th>\n",
       "      <td>-0.25001</td>\n",
       "      <td>-0.28697</td>\n",
       "      <td>-0.09988</td>\n",
       "    </tr>\n",
       "  </tbody>\n",
       "</table>\n",
       "</div>"
      ],
      "text/plain": [
       "        recent_10  recent_30  recent_60\n",
       "002810   -0.48887   -0.15388   -0.09433\n",
       "010060    0.02669   -0.03073   -0.02969\n",
       "029460   -0.28381   -0.25043   -0.27348\n",
       "094840   -0.16050   -0.19412   -0.16679\n",
       "006200   -0.13751   -0.20587   -0.13413\n",
       "078140    0.05887    0.09143    0.00592\n",
       "111770   -0.22004   -0.00164    0.10717\n",
       "000850   -0.21637    0.09453    0.06777\n",
       "005710   -0.20648   -0.04490   -0.08580\n",
       "088790    0.06470    0.12695    0.02914\n",
       "020000   -0.06835    0.02721   -0.02360\n",
       "002920   -0.16453    0.10989    0.00810\n",
       "005680   -0.23130   -0.31885   -0.30244\n",
       "046310    0.20562    0.20377    0.21742\n",
       "008110    0.01363    0.11257    0.23458\n",
       "241770   -0.06743   -0.15799   -0.05999\n",
       "094970   -0.25001   -0.28697   -0.09988"
      ]
     },
     "execution_count": 12,
     "metadata": {},
     "output_type": "execute_result"
    }
   ],
   "source": [
    "techinical_df = pd.DataFrame(results).T\n",
    "techinical_df"
   ]
  },
  {
   "cell_type": "code",
   "execution_count": 13,
   "metadata": {},
   "outputs": [
    {
     "data": {
      "text/plain": [
       "9"
      ]
     },
     "execution_count": 13,
     "metadata": {},
     "output_type": "execute_result"
    }
   ],
   "source": [
    "ta_filtered_codes = techinical_df[\n",
    "    (techinical_df[\"recent_10\"] > 0)\n",
    "    | (techinical_df[\"recent_30\"] > 0)\n",
    "    | (techinical_df[\"recent_60\"] > 0)\n",
    "].index\n",
    "len(ta_filtered_codes)"
   ]
  },
  {
   "cell_type": "code",
   "execution_count": 14,
   "metadata": {},
   "outputs": [],
   "source": [
    "from st_pa_tools.pa_tools.generators.highlow_based_generator import HighLowBasedPositionGenerator\n",
    "from st_pa_tools.pa_tools.models.position_rank_index import PositionRankIndexModel\n",
    "\n",
    "hlb_pg = HighLowBasedPositionGenerator()\n",
    "pri_model = PositionRankIndexModel()"
   ]
  },
  {
   "cell_type": "code",
   "execution_count": 15,
   "metadata": {},
   "outputs": [],
   "source": [
    "from tqdm import tqdm"
   ]
  },
  {
   "cell_type": "code",
   "execution_count": 16,
   "metadata": {},
   "outputs": [
    {
     "name": "stderr",
     "output_type": "stream",
     "text": [
      "100%|██████████| 9/9 [00:00<00:00, 11.68it/s]\n"
     ]
    }
   ],
   "source": [
    "time_size = 90\n",
    "position_size = 300\n",
    "results = dict()\n",
    "for stock_code in tqdm(ta_filtered_codes):\n",
    "    single_ohlcv = raw_ohlcv[raw_ohlcv[\"stock_code\"] == stock_code]\n",
    "    single_ohlcv.columns = [col.lower() for col in single_ohlcv.columns]\n",
    "    #\n",
    "    highs = single_ohlcv[\"high\"]\n",
    "    lows = single_ohlcv[\"low\"]\n",
    "    volumes = single_ohlcv[\"volume\"]\n",
    "    #\n",
    "    position = hlb_pg.get_time_dependent_volume_position(\n",
    "        highs, lows, volumes, time_size, position_size\n",
    "    )\n",
    "    price = single_ohlcv[\"close\"].iloc[-1]\n",
    "    pri = pri_model.calc(price, position)\n",
    "    results[stock_code] = pri"
   ]
  },
  {
   "cell_type": "code",
   "execution_count": 17,
   "metadata": {},
   "outputs": [
    {
     "data": {
      "text/html": [
       "<div>\n",
       "<style scoped>\n",
       "    .dataframe tbody tr th:only-of-type {\n",
       "        vertical-align: middle;\n",
       "    }\n",
       "\n",
       "    .dataframe tbody tr th {\n",
       "        vertical-align: top;\n",
       "    }\n",
       "\n",
       "    .dataframe thead th {\n",
       "        text-align: right;\n",
       "    }\n",
       "</style>\n",
       "<table border=\"1\" class=\"dataframe\">\n",
       "  <thead>\n",
       "    <tr style=\"text-align: right;\">\n",
       "      <th></th>\n",
       "      <th>pri</th>\n",
       "    </tr>\n",
       "  </thead>\n",
       "  <tbody>\n",
       "    <tr>\n",
       "      <th>010060</th>\n",
       "      <td>0.71</td>\n",
       "    </tr>\n",
       "    <tr>\n",
       "      <th>078140</th>\n",
       "      <td>0.93</td>\n",
       "    </tr>\n",
       "    <tr>\n",
       "      <th>111770</th>\n",
       "      <td>0.38</td>\n",
       "    </tr>\n",
       "    <tr>\n",
       "      <th>000850</th>\n",
       "      <td>0.23</td>\n",
       "    </tr>\n",
       "    <tr>\n",
       "      <th>088790</th>\n",
       "      <td>0.28</td>\n",
       "    </tr>\n",
       "    <tr>\n",
       "      <th>020000</th>\n",
       "      <td>0.33</td>\n",
       "    </tr>\n",
       "    <tr>\n",
       "      <th>002920</th>\n",
       "      <td>0.11</td>\n",
       "    </tr>\n",
       "    <tr>\n",
       "      <th>046310</th>\n",
       "      <td>0.65</td>\n",
       "    </tr>\n",
       "    <tr>\n",
       "      <th>008110</th>\n",
       "      <td>0.77</td>\n",
       "    </tr>\n",
       "  </tbody>\n",
       "</table>\n",
       "</div>"
      ],
      "text/plain": [
       "         pri\n",
       "010060  0.71\n",
       "078140  0.93\n",
       "111770  0.38\n",
       "000850  0.23\n",
       "088790  0.28\n",
       "020000  0.33\n",
       "002920  0.11\n",
       "046310  0.65\n",
       "008110  0.77"
      ]
     },
     "execution_count": 17,
     "metadata": {},
     "output_type": "execute_result"
    }
   ],
   "source": [
    "position_df = pd.DataFrame([results], index=[\"pri\"]).T\n",
    "position_df"
   ]
  },
  {
   "cell_type": "code",
   "execution_count": 18,
   "metadata": {},
   "outputs": [],
   "source": [
    "pa_filtered_stocks = position_df[(0.6 < position_df[\"pri\"]) & (position_df[\"pri\"] < 0.8)].index"
   ]
  },
  {
   "cell_type": "code",
   "execution_count": 19,
   "metadata": {},
   "outputs": [],
   "source": [
    "corps = pd.read_csv(\"./data/corps.csv\", index_col=0)\n",
    "corps[\"stock_code\"] = corps[\"stock_code\"].apply(lambda x: str(x).zfill(6))\n",
    "\n",
    "stocks = pd.read_csv(\"./data/stocks.csv\", index_col=0)\n",
    "stocks[\"stock_code\"] = stocks[\"stock_code\"].apply(lambda x: str(x).zfill(6))"
   ]
  },
  {
   "cell_type": "code",
   "execution_count": 20,
   "metadata": {},
   "outputs": [],
   "source": [
    "info = pd.merge(left=corps, right=stocks.drop(columns=[\"stock_nm\"]), on=[\"stock_code\"])"
   ]
  },
  {
   "cell_type": "code",
   "execution_count": 21,
   "metadata": {},
   "outputs": [
    {
     "data": {
      "text/html": [
       "<div>\n",
       "<style scoped>\n",
       "    .dataframe tbody tr th:only-of-type {\n",
       "        vertical-align: middle;\n",
       "    }\n",
       "\n",
       "    .dataframe tbody tr th {\n",
       "        vertical-align: top;\n",
       "    }\n",
       "\n",
       "    .dataframe thead th {\n",
       "        text-align: right;\n",
       "    }\n",
       "</style>\n",
       "<table border=\"1\" class=\"dataframe\">\n",
       "  <thead>\n",
       "    <tr style=\"text-align: right;\">\n",
       "      <th></th>\n",
       "      <th>stock_code</th>\n",
       "      <th>stock_nm</th>\n",
       "      <th>sector</th>\n",
       "      <th>product</th>\n",
       "      <th>market</th>\n",
       "      <th>shares</th>\n",
       "      <th>market_cap</th>\n",
       "    </tr>\n",
       "  </thead>\n",
       "  <tbody>\n",
       "    <tr>\n",
       "      <th>1643</th>\n",
       "      <td>010060</td>\n",
       "      <td>OCI홀딩스</td>\n",
       "      <td>기초 화학물질 제조업</td>\n",
       "      <td>타르제품,카본블랙,무수프탈산,농약원제,석탄화학제품,정밀화학제품,플라스틱창호재 제조,판매</td>\n",
       "      <td>KOSPI</td>\n",
       "      <td>19812715</td>\n",
       "      <td>1874282839000</td>\n",
       "    </tr>\n",
       "    <tr>\n",
       "      <th>248</th>\n",
       "      <td>008110</td>\n",
       "      <td>대동전자</td>\n",
       "      <td>통신 및 방송 장비 제조업</td>\n",
       "      <td>통신음향,전자기계기구용 플라스틱제품 제조,도매</td>\n",
       "      <td>KOSPI</td>\n",
       "      <td>10490447</td>\n",
       "      <td>71544848540</td>\n",
       "    </tr>\n",
       "    <tr>\n",
       "      <th>406</th>\n",
       "      <td>046310</td>\n",
       "      <td>백금T&amp;A</td>\n",
       "      <td>통신 및 방송 장비 제조업</td>\n",
       "      <td>레이더디텍터</td>\n",
       "      <td>KOSDAQ</td>\n",
       "      <td>16418641</td>\n",
       "      <td>48024524925</td>\n",
       "    </tr>\n",
       "  </tbody>\n",
       "</table>\n",
       "</div>"
      ],
      "text/plain": [
       "     stock_code stock_nm          sector  \\\n",
       "1643     010060   OCI홀딩스     기초 화학물질 제조업   \n",
       "248      008110     대동전자  통신 및 방송 장비 제조업   \n",
       "406      046310    백금T&A  통신 및 방송 장비 제조업   \n",
       "\n",
       "                                               product  market    shares  \\\n",
       "1643  타르제품,카본블랙,무수프탈산,농약원제,석탄화학제품,정밀화학제품,플라스틱창호재 제조,판매   KOSPI  19812715   \n",
       "248                          통신음향,전자기계기구용 플라스틱제품 제조,도매   KOSPI  10490447   \n",
       "406                                             레이더디텍터  KOSDAQ  16418641   \n",
       "\n",
       "         market_cap  \n",
       "1643  1874282839000  \n",
       "248     71544848540  \n",
       "406     48024524925  "
      ]
     },
     "execution_count": 21,
     "metadata": {},
     "output_type": "execute_result"
    }
   ],
   "source": [
    "final_df = info[info[\"stock_code\"].isin(pa_filtered_stocks)].sort_values(\n",
    "    \"market_cap\", ascending=False\n",
    ")\n",
    "final_df"
   ]
  },
  {
   "cell_type": "code",
   "execution_count": 22,
   "metadata": {},
   "outputs": [],
   "source": [
    "buying_stocks = list(set(final_df[final_df[\"market\"] == \"KOSPI\"][\"stock_code\"]))"
   ]
  },
  {
   "cell_type": "code",
   "execution_count": 23,
   "metadata": {},
   "outputs": [],
   "source": [
    "def get_latest_price(ohlcvs,stock_code):\n",
    "    latest_price = ohlcvs[ohlcvs['stock_code'] == stock_code]['close'].iloc[-1]\n",
    "    return latest_price"
   ]
  },
  {
   "cell_type": "code",
   "execution_count": 24,
   "metadata": {},
   "outputs": [],
   "source": [
    "buying_stock_price = [\n",
    "    (stock_code, get_latest_price(ohlcvs=raw_ohlcv, stock_code=stock_code) * 1.05)\n",
    "    for stock_code in buying_stocks\n",
    "]"
   ]
  },
  {
   "cell_type": "code",
   "execution_count": 25,
   "metadata": {},
   "outputs": [],
   "source": [
    "import pickle\n",
    "\n",
    "with open(\"./data/buying_stock_price.pkl\", \"wb\") as f:\n",
    "    pickle.dump(buying_stock_price, f)"
   ]
  }
 ],
 "metadata": {
  "kernelspec": {
   "display_name": "quant_trading",
   "language": "python",
   "name": "python3"
  },
  "language_info": {
   "codemirror_mode": {
    "name": "ipython",
    "version": 3
   },
   "file_extension": ".py",
   "mimetype": "text/x-python",
   "name": "python",
   "nbconvert_exporter": "python",
   "pygments_lexer": "ipython3",
   "version": "3.10.13"
  }
 },
 "nbformat": 4,
 "nbformat_minor": 2
}
